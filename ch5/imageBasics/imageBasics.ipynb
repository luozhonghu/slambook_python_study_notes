{
 "cells": [
  {
   "cell_type": "code",
   "execution_count": null,
   "metadata": {},
   "outputs": [],
   "source": []
  },
  {
   "cell_type": "markdown",
   "metadata": {},
   "source": [
    "第五章：这章讲的slam 的相机成像相关的知识\n",
    "\n",
    "并且讲了Opencv的基础操作\n",
    "\n",
    "相机的内参是出厂就固定了，外参数就是上一章节的位置与旋转。\n",
    "\n",
    "又说明了单目相机，双目相机，深度相机等基本原理\n",
    "\n",
    "undistortImage.cpp\n",
    "去畸变的这个只有书上有，这边 基本操作就行了\n",
    "\n"
   ]
  },
  {
   "cell_type": "code",
   "execution_count": 1,
   "metadata": {},
   "outputs": [
    {
     "name": "stdout",
     "output_type": "stream",
     "text": [
      "文件 --f=/Users/bytedance/Library/Jupyter/runtime/kernel-v367e4a90032ee809008e86b4ff33e200e136fafca.json 不存在.\n"
     ]
    },
    {
     "name": "stderr",
     "output_type": "stream",
     "text": [
      "[ WARN:0@0.008] global loadsave.cpp:241 findDecoder imread_('--f=/Users/bytedance/Library/Jupyter/runtime/kernel-v367e4a90032ee809008e86b4ff33e200e136fafca.json'): can't open/read file: check file path/integrity\n"
     ]
    }
   ],
   "source": [
    "import cv2\n",
    "import numpy as np\n",
    "import time\n",
    "\n",
    "def main():\n",
    "    # 读取命令行参数指定的图像\n",
    "    import sys\n",
    "    if len(sys.argv) < 2:\n",
    "        print(\"请提供图像文件路径作为参数\")\n",
    "        return\n",
    "    \n",
    "    image_path = sys.argv[1]\n",
    "    image = cv2.imread(image_path)\n",
    "\n",
    "    # 判断图像文件是否正确读取\n",
    "    if image is None:\n",
    "        print(f\"文件 {image_path} 不存在.\")\n",
    "        return\n",
    "\n",
    "    # 输出基本信息\n",
    "    print(f\"图像宽为 {image.shape[1]}, 高为 {image.shape[0]}, 通道数为 {image.shape[2]}\")\n",
    "    cv2.imshow(\"image\", image)\n",
    "    cv2.waitKey(0)\n",
    "\n",
    "    # 判断image的类型\n",
    "    if image.dtype != np.uint8 or (image.ndim != 2 and image.ndim != 3):\n",
    "        print(\"请输入一张彩色图或灰度图.\")\n",
    "        return\n",
    "\n",
    "    # 遍历图像\n",
    "    start_time = time.time()\n",
    "    for y in range(image.shape[0]):\n",
    "        for x in range(image.shape[1]):\n",
    "            pixel = image[y, x]\n",
    "            # 这里可以对像素进行操作，比如:\n",
    "            # for c in range(image.shape[2]):\n",
    "            #     data = pixel[c]\n",
    "\n",
    "    end_time = time.time()\n",
    "    print(f\"遍历图像用时：{end_time - start_time:.6f} 秒。\")\n",
    "\n",
    "    # 关于图像的拷贝\n",
    "    image_another = image.copy()\n",
    "    image_another[0:100, 0:100] = 0  # 将左上角100*100的块置零\n",
    "    cv2.imshow(\"image\", image)\n",
    "    cv2.waitKey(0)\n",
    "\n",
    "    # 使用copy()函数来拷贝数据\n",
    "    image_clone = image.copy()\n",
    "    image_clone[0:100, 0:100] = 255\n",
    "    cv2.imshow(\"image\", image)\n",
    "    cv2.imshow(\"image_clone\", image_clone)\n",
    "    cv2.waitKey(0)\n",
    "\n",
    "    cv2.destroyAllWindows()\n",
    "\n",
    "if __name__ == \"__main__\":\n",
    "    main()\n"
   ]
  },
  {
   "cell_type": "code",
   "execution_count": null,
   "metadata": {},
   "outputs": [],
   "source": []
  },
  {
   "cell_type": "markdown",
   "metadata": {},
   "source": [
    "作者 书上有两个脚本这里没有额， 只有这边从joinMap文件夹中抽了几张照片复制到这边尝试复现一下双目slam的建图"
   ]
  },
  {
   "cell_type": "code",
   "execution_count": null,
   "metadata": {},
   "outputs": [],
   "source": []
  },
  {
   "cell_type": "code",
   "execution_count": null,
   "metadata": {},
   "outputs": [
    {
     "name": "stderr",
     "output_type": "stream",
     "text": [
      "/Users/bytedance/Library/Python/3.9/lib/python/site-packages/urllib3/__init__.py:35: NotOpenSSLWarning: urllib3 v2 only supports OpenSSL 1.1.1+, currently the 'ssl' module is compiled with 'LibreSSL 2.8.3'. See: https://github.com/urllib3/urllib3/issues/3020\n",
      "  warnings.warn(\n",
      "Matplotlib is building the font cache; this may take a moment.\n"
     ]
    },
    {
     "name": "stdout",
     "output_type": "stream",
     "text": [
      "深度\n"
     ]
    },
    {
     "name": "stderr",
     "output_type": "stream",
     "text": [
      "2025-02-11 12:54:17.299 Python[1532:712437] +[IMKClient subclass]: chose IMKClient_Modern\n",
      "2025-02-11 12:54:17.299 Python[1532:712437] +[IMKInputSession subclass]: chose IMKInputSession_Modern\n"
     ]
    }
   ],
   "source": [
    "import cv2\n",
    "import numpy as np\n",
    "from scipy.spatial.transform import Rotation as R\n",
    "import open3d as o3d\n",
    "import matplotlib.pyplot as plt \n",
    "\n",
    "def main():\n",
    "    # 内参\n",
    "    fx, fy, cx, cy = 718.856, 718.856, 607.1928, 185.2157\n",
    "    # 基线\n",
    "    b = 0.573\n",
    "\n",
    "    # 读取图像\n",
    "    left = cv2.imread('4.png', 0)  # 请替换为实际的左图文件名\n",
    "    right = cv2.imread('5.png', 0)  # 请替换为实际的右图文件名\n",
    "\n",
    "    # 创建SGBM对象\n",
    "    sgbm = cv2.StereoSGBM_create(\n",
    "        minDisparity=0,\n",
    "        numDisparities=96,\n",
    "        blockSize=9,\n",
    "        P1=8 * 9 * 9,\n",
    "        P2=32 * 9 * 9,\n",
    "        disp12MaxDiff=1,\n",
    "        uniquenessRatio=10,\n",
    "        speckleWindowSize=100,\n",
    "        speckleRange=32\n",
    "    )\n",
    "\n",
    "    # 计算视差\n",
    "    disparity_sgbm = sgbm.compute(left, right)\n",
    "    disparity = disparity_sgbm.astype(np.float32) / 16.0\n",
    "\n",
    "    # 生成点云\n",
    "    pointcloud = []\n",
    "\n",
    "    # 如果你的机器慢，可以将步长改为2\n",
    "    for v in range(0, left.shape[0], 1):  # 如果需要，改为 range(0, left.shape[0], 2)\n",
    "        for u in range(0, left.shape[1], 1):  # 如果需要，改为 range(0, left.shape[1], 2)\n",
    "            if disparity[v, u] <= 10.0 or disparity[v, u] >= 96.0:\n",
    "                continue\n",
    "\n",
    "            # 前三维为xyz，第四维为颜色\n",
    "            point = [0, 0, 0, left[v, u] / 255.0]\n",
    "\n",
    "            # 根据双目模型计算point的位置\n",
    "            x = (u - cx) / fx\n",
    "            y = (v - cy) / fy\n",
    "            depth = fx * b / disparity[v, u]\n",
    "            point[0] = x * depth\n",
    "            point[1] = y * depth\n",
    "            point[2] = depth\n",
    "\n",
    "            pointcloud.append(point)\n",
    "    #画出深度图\n",
    "    print(\"深度\")\n",
    "\n",
    "    cv2.imshow(\"disparity\", disparity / 96.0)\n",
    "    cv2.waitKey(0)\n",
    "\n",
    "    # 画出点云\n",
    "    print(\"画出点云\")\n",
    "    show_point_cloud(pointcloud)\n",
    "\n",
    "# def show_point_cloud(pointcloud):\n",
    "#     # 将点云数据转换为Open3D格式\n",
    "#     pcd = o3d.geometry.PointCloud()\n",
    "#     points = np.array(pointcloud)[:, :3]  # 取前三列作为坐标\n",
    "#     colors = np.array(pointcloud)[:, 3:]  # 取最后一列作为颜色\n",
    "#     colors = np.repeat(colors, 3, axis=1)  # 将灰度值重复三次得到RGB\n",
    "#     pcd.points = o3d.utility.Vector3dVector(points)\n",
    "#     pcd.colors = o3d.utility.Vector3dVector(colors)\n",
    "\n",
    "#     # 可视化点云\n",
    "#     o3d.visualization.draw_geometries([pcd])\n",
    "def show_point_cloud(pointcloud):\n",
    "    # 将点云数据转换为Open3D格式\n",
    "    pcd = o3d.geometry.PointCloud()\n",
    "    points = np.array(pointcloud)[:, :3]  # 取前三列作为坐标\n",
    "    colors = np.array(pointcloud)[:, 3:]  # 取最后一列作为颜色\n",
    "    colors = np.repeat(colors, 3, axis=1)  # 将灰度值重复三次得到RGB\n",
    "    pcd.points = o3d.utility.Vector3dVector(points)\n",
    "    pcd.colors = o3d.utility.Vector3dVector(colors)\n",
    "\n",
    "    # 创建可视化器\n",
    "    vis = o3d.visualization.Visualizer()\n",
    "    vis.create_window()\n",
    "    vis.add_geometry(pcd)\n",
    "\n",
    "    # 更新渲染\n",
    "    vis.update_geometry(pcd)\n",
    "    vis.poll_events()\n",
    "    vis.update_renderer()\n",
    "\n",
    "    # 捕获屏幕图像\n",
    "    image = vis.capture_screen_float_buffer()\n",
    "    \n",
    "    # 保存图像（可选）\n",
    "    # plt.imsave(\"pointcloud.png\", np.asarray(image))\n",
    "\n",
    "    # 显示图像\n",
    "    plt.imshow(np.asarray(image))\n",
    "    plt.show()\n",
    "\n",
    "    # 关闭可视化器\n",
    "    vis.destroy_window()\n",
    "\n",
    "\n",
    "if __name__ == \"__main__\":\n",
    "    main()\n"
   ]
  },
  {
   "cell_type": "code",
   "execution_count": null,
   "metadata": {},
   "outputs": [],
   "source": []
  }
 ],
 "metadata": {
  "kernelspec": {
   "display_name": "Python 3",
   "language": "python",
   "name": "python3"
  },
  "language_info": {
   "codemirror_mode": {
    "name": "ipython",
    "version": 3
   },
   "file_extension": ".py",
   "mimetype": "text/x-python",
   "name": "python",
   "nbconvert_exporter": "python",
   "pygments_lexer": "ipython3",
   "version": "3.9.6"
  }
 },
 "nbformat": 4,
 "nbformat_minor": 2
}
