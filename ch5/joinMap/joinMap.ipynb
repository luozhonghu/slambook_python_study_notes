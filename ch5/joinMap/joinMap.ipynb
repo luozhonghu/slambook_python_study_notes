{
 "cells": [
  {
   "cell_type": "markdown",
   "metadata": {},
   "source": [
    "这个是知道 位置信息，知道深度图还有二维图像画面，重构3D点云图"
   ]
  },
  {
   "cell_type": "code",
   "execution_count": 1,
   "metadata": {},
   "outputs": [
    {
     "name": "stderr",
     "output_type": "stream",
     "text": [
      "/Users/bytedance/Library/Python/3.9/lib/python/site-packages/urllib3/__init__.py:35: NotOpenSSLWarning: urllib3 v2 only supports OpenSSL 1.1.1+, currently the 'ssl' module is compiled with 'LibreSSL 2.8.3'. See: https://github.com/urllib3/urllib3/issues/3020\n",
      "  warnings.warn(\n"
     ]
    },
    {
     "data": {
      "text/plain": [
       "[array([[ 0.97226635,  0.06500952, -0.22465952, -0.228993  ],\n",
       "        [-0.06481371,  0.99786324,  0.00825435,  0.00645704],\n",
       "        [ 0.22471608,  0.00653559,  0.97440236,  0.0287837 ],\n",
       "        [ 0.        ,  0.        ,  0.        ,  1.        ]]),\n",
       " array([[ 0.77722853,  0.14876417, -0.61137961, -0.50237   ],\n",
       "        [-0.1467895 ,  0.98770767,  0.05372525, -0.0661803 ],\n",
       "        [ 0.61185672,  0.04798731,  0.7895116 ,  0.322012  ],\n",
       "        [ 0.        ,  0.        ,  0.        ,  1.        ]]),\n",
       " array([[ 0.83383763,  0.14465714, -0.5327186 , -0.970912  ],\n",
       "        [-0.13727125,  0.98907599,  0.05371498, -0.185889  ],\n",
       "        [ 0.53466943,  0.02833737,  0.84458605,  0.872353  ],\n",
       "        [ 0.        ,  0.        ,  0.        ,  1.        ]]),\n",
       " array([[ 0.89432262,  0.11451104, -0.43252083, -1.41952   ],\n",
       "        [-0.10625166,  0.9933957 ,  0.04330777, -0.279885  ],\n",
       "        [ 0.43462356,  0.00722494,  0.90058324,  1.43657   ],\n",
       "        [ 0.        ,  0.        ,  0.        ,  1.        ]]),\n",
       " array([[ 0.87064325,  0.0934097 , -0.48296476, -1.55819   ],\n",
       "        [-0.06623725,  0.99512556,  0.07305992, -0.301094  ],\n",
       "        [ 0.48743509, -0.03161887,  0.87258655,  1.6215    ],\n",
       "        [ 0.        ,  0.        ,  0.        ,  1.        ]])]"
      ]
     },
     "execution_count": 1,
     "metadata": {},
     "output_type": "execute_result"
    }
   ],
   "source": [
    "import numpy as np\n",
    "import cv2\n",
    "import open3d as o3d\n",
    "from scipy.spatial.transform import Rotation as R\n",
    "\n",
    "def read_pose_file(filename):\n",
    "    poses = []\n",
    "    with open(filename, 'r') as f:\n",
    "        for line in f:\n",
    "            data = list(map(float, line.strip().split()))\n",
    "            q = data[3:]  # 四元数部分\n",
    "            t = data[:3]  # 平移向量部分\n",
    "            \n",
    "            # 创建变换矩阵\n",
    "            T = np.eye(4)\n",
    "            T[:3, :3] = R.from_quat(q).as_matrix()\n",
    "            T[:3, 3] = t\n",
    "            \n",
    "            poses.append(T)\n",
    "    return poses\n",
    "\n",
    "\n",
    "read_pose_file(\"pose.txt\")"
   ]
  },
  {
   "cell_type": "code",
   "execution_count": 2,
   "metadata": {},
   "outputs": [
    {
     "data": {
      "text/plain": [
       "[array([[ 0.97226635,  0.06500952, -0.22465952, -0.228993  ],\n",
       "        [-0.06481371,  0.99786324,  0.00825435,  0.00645704],\n",
       "        [ 0.22471608,  0.00653559,  0.97440236,  0.0287837 ],\n",
       "        [ 0.        ,  0.        ,  0.        ,  1.        ]]),\n",
       " array([[ 0.77722853,  0.14876417, -0.61137961, -0.50237   ],\n",
       "        [-0.1467895 ,  0.98770767,  0.05372525, -0.0661803 ],\n",
       "        [ 0.61185672,  0.04798731,  0.7895116 ,  0.322012  ],\n",
       "        [ 0.        ,  0.        ,  0.        ,  1.        ]]),\n",
       " array([[ 0.83383763,  0.14465714, -0.5327186 , -0.970912  ],\n",
       "        [-0.13727125,  0.98907599,  0.05371498, -0.185889  ],\n",
       "        [ 0.53466943,  0.02833737,  0.84458605,  0.872353  ],\n",
       "        [ 0.        ,  0.        ,  0.        ,  1.        ]]),\n",
       " array([[ 0.89432262,  0.11451104, -0.43252083, -1.41952   ],\n",
       "        [-0.10625166,  0.9933957 ,  0.04330777, -0.279885  ],\n",
       "        [ 0.43462356,  0.00722494,  0.90058324,  1.43657   ],\n",
       "        [ 0.        ,  0.        ,  0.        ,  1.        ]]),\n",
       " array([[ 0.87064325,  0.0934097 , -0.48296476, -1.55819   ],\n",
       "        [-0.06623725,  0.99512556,  0.07305992, -0.301094  ],\n",
       "        [ 0.48743509, -0.03161887,  0.87258655,  1.6215    ],\n",
       "        [ 0.        ,  0.        ,  0.        ,  1.        ]])]"
      ]
     },
     "execution_count": 2,
     "metadata": {},
     "output_type": "execute_result"
    }
   ],
   "source": [
    "read_pose_file(\"pose.txt\")"
   ]
  },
  {
   "cell_type": "code",
   "execution_count": 1,
   "metadata": {},
   "outputs": [
    {
     "name": "stderr",
     "output_type": "stream",
     "text": [
      "/Users/bytedance/Library/Python/3.9/lib/python/site-packages/urllib3/__init__.py:35: NotOpenSSLWarning: urllib3 v2 only supports OpenSSL 1.1.1+, currently the 'ssl' module is compiled with 'LibreSSL 2.8.3'. See: https://github.com/urllib3/urllib3/issues/3020\n",
      "  warnings.warn(\n"
     ]
    },
    {
     "name": "stdout",
     "output_type": "stream",
     "text": [
      "Current working directory: /Users/bytedance/Desktop/test/slambook_python/ch5/joinMap\n",
      "读取了 5 个位姿\n",
      "处理图像 1\n",
      "颜色图像形状: (480, 640, 3), 深度图像形状: (480, 640)\n",
      "深度图像数据类型: uint16\n"
     ]
    },
    {
     "ename": "",
     "evalue": "",
     "output_type": "error",
     "traceback": [
      "\u001b[1;31m在当前单元格或上一个单元格中执行代码时 Kernel 崩溃。\n",
      "\u001b[1;31m请查看单元格中的代码，以确定故障的可能原因。\n",
      "\u001b[1;31m单击<a href='https://aka.ms/vscodeJupyterKernelCrash'>此处</a>了解详细信息。\n",
      "\u001b[1;31m有关更多详细信息，请查看 Jupyter <a href='command:jupyter.viewOutput'>log</a>。"
     ]
    }
   ],
   "source": [
    "import numpy as np\n",
    "import cv2\n",
    "import open3d as o3d\n",
    "from scipy.spatial.transform import Rotation as R\n",
    "import os\n",
    "\n",
    "def read_pose_file(filename):\n",
    "    poses = []\n",
    "    with open(filename, 'r') as f:\n",
    "        for line in f:\n",
    "            data = list(map(float, line.strip().split()))\n",
    "            q = data[3:]  # 四元数部分\n",
    "            t = data[:3]  # 平移向量部分\n",
    "            \n",
    "            # 创建变换矩阵\n",
    "            T = np.eye(4)\n",
    "            T[:3, :3] = R.from_quat(q).as_matrix()\n",
    "            T[:3, 3] = t\n",
    "            \n",
    "            poses.append(T)\n",
    "    return poses\n",
    "\n",
    "def process_image(color, depth, T, cx, cy, fx, fy, depth_scale):\n",
    "    points = []\n",
    "    colors = []\n",
    "    \n",
    "    for v in range(color.shape[0]):\n",
    "        for u in range(color.shape[1]):\n",
    "            d = depth[v, u]\n",
    "            if d == 0:\n",
    "                continue\n",
    "\n",
    "            z = d / depth_scale\n",
    "            x = (u - cx) * z / fx\n",
    "            y = (v - cy) * z / fy\n",
    "\n",
    "            point = np.dot(T, np.array([x, y, z, 1]))[:3]\n",
    "\n",
    "            points.append(point)\n",
    "            colors.append(color[v, u, ::-1] / 255.0)  # BGR to RGB\n",
    "\n",
    "    return np.array(points), np.array(colors)\n",
    "\n",
    "def main():\n",
    "    # 更改工作目录到脚本所在目录\n",
    "    # os.chdir(os.path.dirname(os.path.abspath(__file__)))\n",
    "\n",
    "    # 打印当前工作目录\n",
    "    print(\"Current working directory:\", os.getcwd())\n",
    "\n",
    "    poses = read_pose_file(\"/Users/bytedance/Desktop/test/slambook_python/ch5/joinMap/pose.txt\")\n",
    "    print(f\"读取了 {len(poses)} 个位姿\")\n",
    "\n",
    "    # 相机内参\n",
    "    cx, cy = 325.5, 253.5\n",
    "    fx, fy = 518.0, 519.0\n",
    "    depth_scale = 1000.0\n",
    "\n",
    "    # 新建一个点云\n",
    "    pcd = o3d.geometry.PointCloud()\n",
    "\n",
    "    for i in range(5):\n",
    "        try:\n",
    "            print(f\"处理图像 {i+1}\")\n",
    "            color_path = f\"/Users/bytedance/Desktop/test/slambook_python/ch5/joinMap/color/{i+1}.png\"\n",
    "            depth_path = f\"/Users/bytedance/Desktop/test/slambook_python/ch5/joinMap/depth/{i+1}.pgm\"\n",
    "            \n",
    "            # if not os.path.exists(color_path) or not os.path.exists(depth_path):\n",
    "            #     print(f\"图像文件不存在: {color_path} 或 {depth_path}\")\n",
    "            #     continue\n",
    "\n",
    "            color = cv2.imread(color_path)\n",
    "            depth = cv2.imread(depth_path, -1)  # 以原始深度读取\n",
    "\n",
    "            if color is None or depth is None:\n",
    "                print(f\"无法读取图像: {color_path} 或 {depth_path}\")\n",
    "                continue\n",
    "\n",
    "            print(f\"颜色图像形状: {color.shape}, 深度图像形状: {depth.shape}\")\n",
    "            print(f\"深度图像数据类型: {depth.dtype}\")\n",
    "\n",
    "            points, colors = process_image(color, depth, poses[i], cx, cy, fx, fy, depth_scale)\n",
    "            \n",
    "            pcd.points.extend(points)\n",
    "            pcd.colors.extend(colors)\n",
    "\n",
    "            print(f\"成功处理图像 {i+1}, 当前点云大小: {len(pcd.points)}\")\n",
    "\n",
    "        except Exception as e:\n",
    "            print(f\"处理图像 {i+1} 时发生错误: {str(e)}\")\n",
    "\n",
    "    print(f\"点云共有 {len(pcd.points)} 个点.\")\n",
    "\n",
    "    # 保存点云\n",
    "    o3d.io.write_point_cloud(\"map.pcd\", pcd)\n",
    "\n",
    "    # 可视化点云\n",
    "    o3d.visualization.draw_geometries([pcd])\n",
    "\n",
    "if __name__ == \"__main__\":\n",
    "    main()\n",
    "\n"
   ]
  },
  {
   "cell_type": "code",
   "execution_count": null,
   "metadata": {},
   "outputs": [],
   "source": []
  },
  {
   "cell_type": "code",
   "execution_count": null,
   "metadata": {},
   "outputs": [],
   "source": []
  },
  {
   "cell_type": "code",
   "execution_count": null,
   "metadata": {},
   "outputs": [],
   "source": []
  },
  {
   "cell_type": "markdown",
   "metadata": {},
   "source": [
    "这里崩溃报错，感觉是点太多了导致的，但是看总的 点数 应该不会呀，，，，有没有大佬能帮看下额。我这里先跳过，后面有时间再看下"
   ]
  }
 ],
 "metadata": {
  "kernelspec": {
   "display_name": "Python 3",
   "language": "python",
   "name": "python3"
  },
  "language_info": {
   "codemirror_mode": {
    "name": "ipython",
    "version": 3
   },
   "file_extension": ".py",
   "mimetype": "text/x-python",
   "name": "python",
   "nbconvert_exporter": "python",
   "pygments_lexer": "ipython3",
   "version": "3.9.6"
  }
 },
 "nbformat": 4,
 "nbformat_minor": 2
}
