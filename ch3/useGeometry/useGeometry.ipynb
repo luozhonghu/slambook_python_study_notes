{
 "cells": [
  {
   "cell_type": "code",
   "execution_count": 5,
   "metadata": {},
   "outputs": [
    {
     "name": "stdout",
     "output_type": "stream",
     "text": [
      "rotation matrix =\n",
      " [[ 0.70710678 -0.70710678  0.        ]\n",
      " [ 0.70710678  0.70710678  0.        ]\n",
      " [ 0.          0.          1.        ]]\n",
      "(1,0,0) after rotation = [0.70710678 0.70710678 0.        ]\n",
      "(1,0,0) after rotation = [0.70710678 0.70710678 0.        ]\n",
      "yaw pitch roll = [ 0.78539816  0.         -0.        ]\n",
      "Transform matrix = \n",
      " [[ 0.70710678 -0.70710678  0.          1.        ]\n",
      " [ 0.70710678  0.70710678  0.          3.        ]\n",
      " [ 0.          0.          1.          4.        ]\n",
      " [ 0.          0.          0.          1.        ]]\n",
      "v transformed = [1.70710678 3.70710678 4.        ]\n",
      "quaternion = [0.         0.         0.38268343 0.92387953]\n",
      "(1,0,0) after rotation = [0.70710678 0.70710678 0.        ]\n"
     ]
    }
   ],
   "source": [
    "import numpy as np\n",
    "from scipy.spatial.transform import Rotation as R\n",
    "\n",
    "def main():\n",
    "    # 3D 旋转矩阵\n",
    "    rotation_matrix = np.eye(3)\n",
    "\n",
    "    # 旋转向量 (沿 Z 轴旋转 45 度)\n",
    "    angle = np.pi / 4\n",
    "    axis = np.array([0, 0, 1])\n",
    "    rotation_vector = R.from_rotvec(angle * axis)\n",
    "    \n",
    "    print(\"rotation matrix =\\n\", rotation_vector.as_matrix())\n",
    "\n",
    "    # 用旋转向量进行坐标变换\n",
    "    v = np.array([1, 0, 0])\n",
    "    v_rotated = rotation_vector.apply(v)\n",
    "    print(\"(1,0,0) after rotation =\", v_rotated)\n",
    "\n",
    "    # 用旋转矩阵进行变换\n",
    "    rotation_matrix = rotation_vector.as_matrix()\n",
    "    v_rotated = np.dot(rotation_matrix, v)\n",
    "    print(\"(1,0,0) after rotation =\", v_rotated)\n",
    "\n",
    "    # 欧拉角: 从旋转矩阵转换为欧拉角 (ZYX顺序，即yaw, pitch, roll)\n",
    "    euler_angles = rotation_vector.as_euler('zyx')\n",
    "    print(\"yaw pitch roll =\", euler_angles)\n",
    "\n",
    "    # 欧氏变换矩阵\n",
    "    T = np.eye(4)\n",
    "    T[:3, :3] = rotation_matrix\n",
    "    T[:3, 3] = [1, 3, 4]  # 平移向量\n",
    "    print(\"Transform matrix = \\n\", T)\n",
    "\n",
    "    # 用变换矩阵进行坐标变换\n",
    "    v_homogeneous = np.append(v, 1)  # 齐次坐标\n",
    "    v_transformed = np.dot(T, v_homogeneous)[:3]\n",
    "    print(\"v transformed =\", v_transformed)\n",
    "\n",
    "    # 四元数\n",
    "    q = rotation_vector.as_quat()  # [x, y, z, w] 顺序\n",
    "    print(\"quaternion =\", q)\n",
    "\n",
    "    # 使用四元数旋转一个向量\n",
    "    v_rotated = R.from_quat(q).apply(v)\n",
    "    print(\"(1,0,0) after rotation =\", v_rotated)\n",
    "\n",
    "if __name__ == \"__main__\":\n",
    "    main()\n"
   ]
  }
 ],
 "metadata": {
  "kernelspec": {
   "display_name": "Python 3",
   "language": "python",
   "name": "python3"
  },
  "language_info": {
   "codemirror_mode": {
    "name": "ipython",
    "version": 3
   },
   "file_extension": ".py",
   "mimetype": "text/x-python",
   "name": "python",
   "nbconvert_exporter": "python",
   "pygments_lexer": "ipython3",
   "version": "3.9.6"
  }
 },
 "nbformat": 4,
 "nbformat_minor": 2
}
